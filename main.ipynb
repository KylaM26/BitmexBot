{
 "cells": [
  {
   "cell_type": "code",
   "execution_count": 1,
   "metadata": {},
   "outputs": [],
   "source": [
    "import numpy as pd\n",
    "import pandas as pd\n",
    "\n",
    "from Connector.Client import OrderSide, OrderType\n",
    "from Connector.Bitmex import Bitmex\n",
    "from Database.Database import Database"
   ]
  },
  {
   "cell_type": "code",
   "execution_count": 2,
   "metadata": {},
   "outputs": [],
   "source": [
    "PUBLIC_KEY = \"evIWFAJHrRxf5Hx2Jkc7M809\"\n",
    "SECRET_KEY = \"vfVfBTyKgxMDYFurPy7EV1gl8VQJ7IuMQAL4UCvPB5kuG1fG\"\n",
    "DATA_DIR_PATH = \"Data/\""
   ]
  },
  {
   "cell_type": "code",
   "execution_count": 3,
   "metadata": {},
   "outputs": [
    {
     "name": "stdout",
     "output_type": "stream",
     "text": [
      "Successfully connected to the Bitmex API.\n"
     ]
    }
   ],
   "source": [
    "bitmex_client = Bitmex(public_key=PUBLIC_KEY, secret_key=SECRET_KEY)"
   ]
  },
  {
   "cell_type": "code",
   "execution_count": 4,
   "metadata": {},
   "outputs": [],
   "source": [
    "database = Database(path=DATA_DIR_PATH)"
   ]
  },
  {
   "cell_type": "code",
   "execution_count": 6,
   "metadata": {},
   "outputs": [
    {
     "name": "stdout",
     "output_type": "stream",
     "text": [
      "Iteration 0: 1000 candles collected | Total candles 1000\n",
      "Iteration 1: 1000 candles collected | Total candles 2000\n",
      "Iteration 2: 1000 candles collected | Total candles 3000\n",
      "Iteration 3: 1000 candles collected | Total candles 4000\n",
      "Iteration 4: 1000 candles collected | Total candles 5000\n",
      "Iteration 5: 1000 candles collected | Total candles 6000\n",
      "Iteration 6: 1000 candles collected | Total candles 7000\n",
      "Iteration 7: 1000 candles collected | Total candles 8000\n",
      "Iteration 8: 1000 candles collected | Total candles 9000\n",
      "Iteration 9: 1000 candles collected | Total candles 10000\n",
      "Iteration 10: 1000 candles collected | Total candles 11000\n",
      "Iteration 11: 1000 candles collected | Total candles 12000\n",
      "Iteration 12: 1000 candles collected | Total candles 13000\n",
      "Iteration 13: 1000 candles collected | Total candles 14000\n",
      "Iteration 14: 121 candles collected | Total candles 14121\n"
     ]
    }
   ],
   "source": [
    "choice = input(\"Mode: (collect / backtest / trade): \").lower()\n",
    "\n",
    "if choice == \"collect\":\n",
    "    df = database.add_data(client=bitmex_client, symbol='XBTUSD')\n",
    "elif choice == \"backtest\":\n",
    "    data = bitmex_client.get_historical_data(symbol='XBTUSD')\n",
    "    df = database.get_data(client_name=bitmex_client.name, symbol='XBTUSD')\n",
    "elif choice == \"trade\":\n",
    "    pass"
   ]
  },
  {
   "cell_type": "code",
   "execution_count": null,
   "metadata": {},
   "outputs": [],
   "source": []
  }
 ],
 "metadata": {
  "interpreter": {
   "hash": "aee8b7b246df8f9039afb4144a1f6fd8d2ca17a180786b69acc140d282b71a49"
  },
  "kernelspec": {
   "display_name": "Python 3.9.7 64-bit",
   "language": "python",
   "name": "python3"
  },
  "language_info": {
   "codemirror_mode": {
    "name": "ipython",
    "version": 3
   },
   "file_extension": ".py",
   "mimetype": "text/x-python",
   "name": "python",
   "nbconvert_exporter": "python",
   "pygments_lexer": "ipython3",
   "version": "3.9.7"
  },
  "orig_nbformat": 4
 },
 "nbformat": 4,
 "nbformat_minor": 2
}
