{
 "cells": [
  {
   "cell_type": "code",
   "execution_count": 1,
   "metadata": {},
   "outputs": [],
   "source": [
    "import numpy as pd\n",
    "import pandas as pd\n",
    "\n",
    "from Connector.Client import OrderSide, OrderType\n",
    "from Connector.Bitmex import Bitmex\n",
    "from Database.Database import Database"
   ]
  },
  {
   "cell_type": "code",
   "execution_count": 2,
   "metadata": {},
   "outputs": [],
   "source": [
    "PUBLIC_KEY = \"evIWFAJHrRxf5Hx2Jkc7M809\"\n",
    "SECRET_KEY = \"vfVfBTyKgxMDYFurPy7EV1gl8VQJ7IuMQAL4UCvPB5kuG1fG\"\n",
    "DATA_DIR_PATH = \"Data/\""
   ]
  },
  {
   "cell_type": "code",
   "execution_count": 3,
   "metadata": {},
   "outputs": [
    {
     "name": "stdout",
     "output_type": "stream",
     "text": [
      "Successfully connected to the Bitmex API.\n"
     ]
    }
   ],
   "source": [
    "bitmex_client = Bitmex(public_key=PUBLIC_KEY, secret_key=SECRET_KEY)"
   ]
  },
  {
   "cell_type": "code",
   "execution_count": 4,
   "metadata": {},
   "outputs": [],
   "source": [
    "database = Database(path=DATA_DIR_PATH)"
   ]
  },
  {
   "cell_type": "code",
   "execution_count": 5,
   "metadata": {},
   "outputs": [],
   "source": [
    "choice = \"trade\"#input(\"Mode: (collect / backtest / trade): \").lower()\n",
    "\n",
    "if choice == \"collect\":\n",
    "    df = database.add_data(bitmex_client, 'XBTUSD')\n",
    "elif choice == \"backtest\":\n",
    "    data = bitmex_client.get_historical_data('XBTUSD')\n",
    "    df = database.get_data('XBTUSD')\n",
    "elif choice == \"trade\":\n",
    "    pass"
   ]
  },
  {
   "cell_type": "code",
   "execution_count": null,
   "metadata": {},
   "outputs": [],
   "source": []
  }
 ],
 "metadata": {
  "interpreter": {
   "hash": "aee8b7b246df8f9039afb4144a1f6fd8d2ca17a180786b69acc140d282b71a49"
  },
  "kernelspec": {
   "display_name": "Python 3.9.7 64-bit",
   "language": "python",
   "name": "python3"
  },
  "language_info": {
   "codemirror_mode": {
    "name": "ipython",
    "version": 3
   },
   "file_extension": ".py",
   "mimetype": "text/x-python",
   "name": "python",
   "nbconvert_exporter": "python",
   "pygments_lexer": "ipython3",
   "version": "3.9.7"
  },
  "orig_nbformat": 4
 },
 "nbformat": 4,
 "nbformat_minor": 2
}
